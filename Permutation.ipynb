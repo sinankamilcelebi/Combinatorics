{
 "cells": [
  {
   "cell_type": "markdown",
   "metadata": {},
   "source": [
    "* @file     : Permutation.ipynb\n",
    "* @author   : Sinan KAMILCELEBI\n",
    "* @version  : V1.0.1\n",
    "* @date     : 22-March-2019\n",
    "* @brief    : Permutation Example.\n",
    "\n",
    "__Örnek Soru:__  \n",
    "<b>I)</b> Yaşları farklı x kardeş yan yana sıralanacaktır. En büyük kardeş bir uçta, en küçük kardeş ise diğer uçta olmak üzere bu sıralama işlemi kaç farklı şekilde yapılabilir? \n",
    "\n",
    "<b>II)</b> x mektup y posta kutusuna atılacaktır.   \n",
    "<b>a)</b> Kaç farklı şekilde atılır?  \n",
    "<b>b)</b> Her mektup farklı posta kutusuna atılmak şartıyla kaç farklı şekilde atılabilir?\n",
    "\n",
    "__Çözüm:__  \n",
    "<b>I)</b> Kardeşlerden en büyük ve en küçük olanını toplam kardeş sayısından çıkartıp (x - 2) sonucun faktöriyelini 2 ile çarptığımızda istenilen sonucu elde ederiz.  \n",
    "\n",
    "<b>II-a)</b> Atılacak olan her mektup için aynı miktarda seçim hakkına sahip olduğumuz için x mektup y posta kutusuna  y ^ x farklı şekilde atılır.  \n",
    "\n",
    "<b>II-b)</b> Her mektup farklı posta kutusuna atılmak şartıyla y'nin x elemanlı permütasyonlarının hesaplanmasıyla P(y, x) sonuç bulunur.\n",
    "\n",
    "__Açıklamalar:__      \n",
    "\n",
    "<p align = \"center\">\n",
    "<img src = \"permutation_function.jpg\" alt = \"Permutation Function\" title = \"Permutation Function\" width = \"300\" height = \"150\" />\n",
    "</p>\n",
    "\n",
    "<b>I)</b> Bu soruda kardeş sayısını örnek olarak 6 alırsak eğer kardeşlerin sıralaması EB _ _ _ _ EK (6 - 2)! veya EK _ _ _ _ EB (6 - 2)! şeklinde olur ve bu iki farklı ifadenin toplam değeri ise (4! + 4! = 48) bize istenilen sonucu verir.  \n",
    "\n",
    "<b>II-a)</b> Soruda hiçbir şart belirtilmediği için bu mektupları posta kutusuna aynı anda atabiliriz. Ve her mektup için de aynı miktarda seçim hakkına sahip olduğumuzdan dolayı saymanın çarpma kuralına göre işlem yaparız. \n",
    "\n",
    "<b>II-b)</b> Bir önceki sorunun aksine bir şart belirtildiği için her posta kutusuna atılacak mektup sayısı atılan posta kutusu sayısının yapılan işlemin ardından birer azaltılması ile bulunur. Örnek olarak 4 mektup 6 posta kutusuna 6 * 5 * 4 * 3 = 360 farklı şekilde atılabilir.   "
   ]
  },
  {
   "cell_type": "markdown",
   "metadata": {},
   "source": [
    "### Örnek Soru:  \n",
    "<b>I)</b> Yaşları farklı x kardeş yan yana sıralanacaktır. En büyük kardeş bir uçta, en küçük kardeş ise diğer uçta olmak üzere bu sıralama işlemi kaç farklı şekilde yapılır? "
   ]
  },
  {
   "cell_type": "code",
   "execution_count": 9,
   "metadata": {},
   "outputs": [
    {
     "name": "stdout",
     "output_type": "stream",
     "text": [
      "Lütfen kardeş sayısını giriniz? 6\n",
      "\n",
      "Yaşları farklı 6 kardeş en büyük kardeş bir uçta, en küçük kardeş ise diğer uçta olmak üzere yan yana 48 farklı şekilde sıralanabilir.\n"
     ]
    }
   ],
   "source": [
    "Kardes_Sayisi = input(\"Lütfen kardeş sayısını giriniz? \")\n",
    "\n",
    "x = int(Kardes_Sayisi)\n",
    "\n",
    "Factorial = 1\n",
    "for Value in range(x - 2):\n",
    "    Factorial = Factorial * (Value + 1)\n",
    " \n",
    "print(\"\\nYaşları farklı\", x, \"kardeş en büyük kardeş bir uçta, en küçük kardeş ise diğer uçta olmak üzere yan yana\", \n",
    "      (Factorial * 2), \"farklı şekilde sıralanabilir.\")  "
   ]
  },
  {
   "cell_type": "markdown",
   "metadata": {},
   "source": [
    "### Örnek Soru:  \n",
    "<b>II-a)</b> x mektup y posta kutusuna atılacaktır. Kaç farklı şekilde atılır?   "
   ]
  },
  {
   "cell_type": "code",
   "execution_count": 10,
   "metadata": {},
   "outputs": [
    {
     "name": "stdout",
     "output_type": "stream",
     "text": [
      "Lütfen mektup sayısını giriniz? 4\n",
      "Lütfen posta kutusu sayısını giriniz? 6\n",
      "\n",
      " 4 mektup 6 posta kutusuna 1296 farklı şekilde atılabilir.\n"
     ]
    }
   ],
   "source": [
    "Mektup_Sayisi = input(\"Lütfen mektup sayısını giriniz? \")\n",
    "Posta_Kutusu_Sayisi = input(\"Lütfen posta kutusu sayısını giriniz? \")\n",
    "\n",
    "x = int(Mektup_Sayisi)\n",
    "y = int(Posta_Kutusu_Sayisi)\n",
    "\n",
    "print(\"\\n\", x, \"mektup\", y, \"posta kutusuna\", (y ** x), \"farklı şekilde atılabilir.\")"
   ]
  },
  {
   "cell_type": "markdown",
   "metadata": {},
   "source": [
    "### Örnek Soru:  \n",
    "<b>II-b)</b> x mektup y posta kutusuna atılacaktır. Her mektup farklı posta kutusuna atılmak şartıyla kaç farklı şekilde atılabilir?"
   ]
  },
  {
   "cell_type": "code",
   "execution_count": 11,
   "metadata": {},
   "outputs": [
    {
     "name": "stdout",
     "output_type": "stream",
     "text": [
      "\n",
      "Her mektup farklı posta kutusuna atılmak şartıyla 360.0 farklı şekilde atılabilir.\n"
     ]
    }
   ],
   "source": [
    "def Factorial_Calculate(i):   \n",
    "    if i == 1:       \n",
    "        return 1  \n",
    "    else: \n",
    "        return i * Factorial_Calculate(i - 1)\n",
    "    \n",
    "def Permutation_Calculate(j, k):\n",
    "    l = 0\n",
    "    if (k > j):        \n",
    "        l = l    \n",
    "    else:      \n",
    "        l = Factorial_Calculate(j) / Factorial_Calculate(j - k)\n",
    "        return l\n",
    "\n",
    "print(\"\\nHer mektup farklı posta kutusuna atılmak şartıyla\", Permutation_Calculate(y, x), \"farklı şekilde atılabilir.\")"
   ]
  }
 ],
 "metadata": {
  "kernelspec": {
   "display_name": "Python 3",
   "language": "python",
   "name": "python3"
  },
  "language_info": {
   "codemirror_mode": {
    "name": "ipython",
    "version": 3
   },
   "file_extension": ".py",
   "mimetype": "text/x-python",
   "name": "python",
   "nbconvert_exporter": "python",
   "pygments_lexer": "ipython3",
   "version": "3.7.1"
  }
 },
 "nbformat": 4,
 "nbformat_minor": 2
}
