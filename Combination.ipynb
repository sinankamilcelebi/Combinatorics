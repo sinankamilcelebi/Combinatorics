{
 "cells": [
  {
   "cell_type": "markdown",
   "metadata": {},
   "source": [
    "* @file     : Combination.ipynb\n",
    "* @author   : Sinan KAMILCELEBI\n",
    "* @version  : V1.0.0\n",
    "* @date     : 22-March-2019\n",
    "* @brief    : Combination Example.\n",
    "\n",
    "__Örnek Soru:__   \n",
    "A) X={1,2,3,...,m} pozitif tamsıyılarından tüm 5 elemanlı kümelerinden üçte birinin 7 rakamını içerdiği bilindiğine göre m'yi bulunuz?\n",
    "\n",
    "B) Bir yıldan x farklı gün seçilmiştir. Bu günler arasında her aydan 8 gün olma olasılığını bulunuz? (Her ayın 30 günden oluştuğunu kabul ediniz.) \n",
    "\n",
    "__Çözüm:__  \n",
    "A) (1 / 3) * C(m, 5) == C(m - 1, 4) ifadesi çözümlendiğinde istenilen \"m\" değeri 15 olarak bulunur. Aşağıda yer alan programda kullanıcıdan doğru bulunan \"m\" değeri istenilmektedir. Programda girilen \"m\" değeri doğru veya yanlış olarak test edilerek kullanıcıya çıktı verilmektedir. \n",
    "\n",
    "B) P(A) = (C(30, 8) ^ 12)/C(360, x) klavyeden girilen bir yıldaki x farkı gün sayısına göre istenilen durum, tüm duruma bölünerek olasılık değeri hesaplanmaktadır.\n",
    "\n",
    "__Açıklamalar:__   \n",
    "C(n, r) = n! / ((n - r)! * r!)\n",
    "\n",
    "Örnek A'da; ilk olarak m'nin 5 elemanlı kombinasyonlarının sayısı (1 / 3) ile çarpılır ve bu beş elemanlı kümelerinin üçte birinin 7 rakamını içerdiğini bilindiği için (m - 1)'in 4 elemanlı kombinasyolarının sayısına eşitlenerek istenilen sonuç elde edilir.        \n",
    "Örnek B'de ise; ilk olarak istenilen durum her aydan 8 gün seçileceği belirtildiği için 30'un 8 elemanlı kombinasyonlarının sayısının 12. kuvveti alınarak (Bir yılda 12 ay var.) bulunur. Daha sonra ise tüm durum için, 360'ın bir yıldan seçilen gün sayısına göre kombinasyonu alınır. İstenilen olasılık hesaplaması için de istenilen durum, tüm duruma bölünerek işlem yapılır.    "
   ]
  },
  {
   "cell_type": "markdown",
   "metadata": {},
   "source": [
    "### __Örnek Soru:\n",
    "A) X={1,2,3,...,m} pozitif tamsıyılarından tüm 5 elemanlı kümelerinden üçte birinin 7 rakamını içerdiği bilindiğine göre m'yi bulunuz?"
   ]
  },
  {
   "cell_type": "code",
   "execution_count": 1,
   "metadata": {},
   "outputs": [
    {
     "name": "stdout",
     "output_type": "stream",
     "text": [
      "Lütfen bulduğunuz 'm' tamsayı değerini giriniz? 15\n",
      "\n",
      "Bulduğunuz 'm' tamsayısı doğrudur.\n"
     ]
    }
   ],
   "source": [
    "def Factorial_Calculate(i): \n",
    "    if (i == 1):       \n",
    "        return 1\n",
    "    else: \n",
    "        return i * Factorial_Calculate(i - 1)\n",
    "    \n",
    "def Combination_Calculate(j, k):\n",
    "    if (j < k):\n",
    "        print(\"\\nBulduğunuz 'm' tamsayısının 5'ten büyük veya eşit olması gerekir.(5 elemanlı kümeleri denildiği için.)\")\n",
    "   \n",
    "    elif (j == k):\n",
    "        print(\"1\")\n",
    "    elif (j > k):\n",
    "        #(n Faktöriyel)\n",
    "        s = 1\n",
    "        s = Factorial_Calculate(j) \n",
    "        #(m Faktöriyel)\n",
    "        l = 1\n",
    "        l = Factorial_Calculate(k) \n",
    "        #(n-m Faktöriyel)\n",
    "        f = 1\n",
    "        f = Factorial_Calculate(j - k) \n",
    "        w = s / (l * f)\n",
    "        return w\n",
    "    \n",
    "Bulunan_Sayi = input(\"Lütfen bulduğunuz 'm' tamsayı değerini giriniz? \")\n",
    "\n",
    "m = int(Bulunan_Sayi)\n",
    "\n",
    "Esitlik1 = (1 / 3) * Combination_Calculate(m, 5)\n",
    "Esitlik2 = Combination_Calculate(m-1, 4)\n",
    "\n",
    "if (Esitlik1 == Esitlik2):\n",
    "    print(\"\\nBulduğunuz 'm' tamsayısı doğrudur.\")\n",
    "elif (Esitlik1 != Esitlik2):\n",
    "    print(\"\\nBulduğunuz 'm' tamsayısı yanlıştır. Lütfen tekrar hesaplayınız.\")"
   ]
  },
  {
   "cell_type": "markdown",
   "metadata": {},
   "source": [
    "### __Örnek Soru:\n",
    "B) Bir yıldan x farklı gün seçilmiştir. Bu günler arasında her aydan 8 gün olma olasılığını bulunuz? (Her ayın 30 günden oluştuğunu kabul ediniz.) "
   ]
  },
  {
   "cell_type": "code",
   "execution_count": 2,
   "metadata": {},
   "outputs": [
    {
     "name": "stdout",
     "output_type": "stream",
     "text": [
      "\n",
      "Lütfen bir yıldan seçtiğiniz gün sayısını giriniz? 60\n",
      "\n",
      "Bir yıldan seçtiğiniz 60 farklı gün arasında her aydan 8 gün olma olasılığı 1033296349524.3239 dır.\n",
      "(Her ayın 30 günden oluştuğunu kabul edilmiştir.)\n"
     ]
    }
   ],
   "source": [
    "def Factorial_Calculate(i): \n",
    "    if (i == 1):       \n",
    "        return 1\n",
    "    else: \n",
    "        return i * Factorial_Calculate(i - 1)\n",
    "    \n",
    "def Combination_Calculate(j, k):\n",
    "    if (j < k):\n",
    "        print(\"Verdiğiniz sayıların çözümü için 1. Sayının 2. Sayıdan büyük veya eşit olması gereklidir.\")\n",
    "   \n",
    "    elif (j == k):\n",
    "        print(\"1\")\n",
    "    elif (j > k):\n",
    "        #(n Faktöriyel)\n",
    "        s = 1\n",
    "        s = Factorial_Calculate(j) \n",
    "        #(m Faktöriyel)\n",
    "        l = 1\n",
    "        l = Factorial_Calculate(k) \n",
    "        #(n-m Faktöriyel)\n",
    "        f = 1\n",
    "        f = Factorial_Calculate(j - k) \n",
    "        w = s / (l * f)\n",
    "        return w\n",
    "    \n",
    "Secilen_Gun = input(\"\\nLütfen bir yıldan seçtiğiniz gün sayısını giriniz? \")\n",
    "\n",
    "x = int(Secilen_Gun)\n",
    "\n",
    "Pay = Combination_Calculate(30, 8)\n",
    "Payda = Combination_Calculate(360, x)\n",
    "\n",
    "Olasilik = (Pay**12) / Payda\n",
    "\n",
    "print(\"\\nBir yıldan seçtiğiniz\", x, \"farklı gün arasında her aydan 8 gün olma olasılığı\", Olasilik, \"dır.\")\n",
    "print(\"(Her ayın 30 günden oluştuğunu kabul edilmiştir.)\")\n"
   ]
  }
 ],
 "metadata": {
  "kernelspec": {
   "display_name": "Python 3",
   "language": "python",
   "name": "python3"
  },
  "language_info": {
   "codemirror_mode": {
    "name": "ipython",
    "version": 3
   },
   "file_extension": ".py",
   "mimetype": "text/x-python",
   "name": "python",
   "nbconvert_exporter": "python",
   "pygments_lexer": "ipython3",
   "version": "3.7.1"
  }
 },
 "nbformat": 4,
 "nbformat_minor": 2
}
